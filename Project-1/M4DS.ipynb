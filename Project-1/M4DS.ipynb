{
 "cells": [
  {
   "cell_type": "markdown",
   "id": "597c17de",
   "metadata": {},
   "source": [
    "### Importing Necessary libraries"
   ]
  },
  {
   "cell_type": "code",
   "execution_count": 1,
   "id": "f2a3527f",
   "metadata": {},
   "outputs": [],
   "source": [
    "import numpy as np\n",
    "from scipy.optimize import linprog\n",
    "import imageio"
   ]
  },
  {
   "cell_type": "markdown",
   "id": "a2f37f1e",
   "metadata": {},
   "source": [
    "### Loading the data\n",
    "Provide path to the 'C.npy', 'y.npy' and 'A_inv.npy' files"
   ]
  },
  {
   "cell_type": "code",
   "execution_count": 2,
   "id": "00367829",
   "metadata": {},
   "outputs": [],
   "source": [
    "c_path = \"C.npy\" #path to the C.npy file\n",
    "y_path = \"y.npy\" #path to the y.npy file\n",
    "A_inv_path = \"A_inv.npy\" #path to the A_inv.py file"
   ]
  },
  {
   "cell_type": "markdown",
   "id": "63f6c984",
   "metadata": {},
   "source": [
    "### The function that solves the given optimization problem\n",
    "$$\n",
    "\\min _{s}\\|s\\|_{1} \\\\\n",
    "\\text{such that } \\|y-C s\\|_{2}^{2}=0 $$\n",
    "\n",
    "We solve the given problem using an equivalent linear program. To do so we define:\n",
    "\n",
    "$$ s = u - v, \\; {u}_{i} = \\max \\left\\{ {s}_{i}, 0 \\right\\}, \\; {v}_{i} = \\max \\left\\{ -{s}_{i}, 0 \\right\\} $$\n",
    "\n",
    "and in place of $\\|y-C s\\|_{2}^{2}=0$ we take $y = C s$\n",
    "\n",
    "Then the problem becomes:\n",
    "\n",
    "\\begin{align*}\n",
    "\\arg \\min_{u, v} \\: & \\: \\sum_{i = 1}^{n} {u}_{i} + {v}_{i} \\\\\n",
    "\\text{subject to} \\: & \\: C \\left( u - v \\right) = y \\\\\n",
    "& \\: u \\succeq \\boldsymbol{0} \\\\\n",
    "& \\: v \\succeq \\boldsymbol{0}\n",
    "\\end{align*}"
   ]
  },
  {
   "cell_type": "code",
   "execution_count": 3,
   "id": "dc463d2a",
   "metadata": {},
   "outputs": [],
   "source": [
    "def solve(A, b):\n",
    "  numRows = A.shape[0] \n",
    "  numCols = A.shape[1]\n",
    "\n",
    "  print(\"Number of Rows of A = \" + str(numRows))\n",
    "  print(\"Number of Columns of A = \" + str(numCols))\n",
    "\n",
    "  vF = np.ones([2*numCols, 1])\n",
    "\n",
    "  mAeq = np.concatenate((A, -A), axis=1)\n",
    "  vBeq = b\n",
    "\n",
    "  vLowerBound = np.full([2 * numCols, 1], 0)\n",
    "  vUpperBound = np.full([2 * numCols, 1], np.inf)\n",
    "  Bounds = np.concatenate((vLowerBound, vUpperBound), axis=1)\n",
    "\n",
    "  result = linprog(vF, A_eq=mAeq, b_eq=vBeq, bounds=Bounds)\n",
    "  vUV = result.x\n",
    "  s = vUV[0:numCols] - vUV[numCols:];\n",
    "\n",
    "  return s"
   ]
  },
  {
   "cell_type": "markdown",
   "id": "e4cde576",
   "metadata": {},
   "source": [
    "The below code finds the sparse vector 's' using the above function"
   ]
  },
  {
   "cell_type": "code",
   "execution_count": 4,
   "id": "746c1a68",
   "metadata": {},
   "outputs": [
    {
     "name": "stdout",
     "output_type": "stream",
     "text": [
      "Number of Rows of A = 2760\n",
      "Number of Columns of A = 9200\n",
      "Done\n",
      "[ 1.30381445e+04  3.88050523e+02  2.53619249e+02 ...  8.15972781e-09\n",
      "  1.65101116e-07 -1.76997052e-07]\n"
     ]
    }
   ],
   "source": [
    "A = np.load(c_path)\n",
    "b = np.load(y_path)\n",
    "s = solve(A, b)\n",
    "print(\"Done\")\n",
    "print(s)\n",
    "#np.save('s', s) #if you need to save the sparse vector s, uncomment this line"
   ]
  },
  {
   "cell_type": "markdown",
   "id": "2bf69f2f",
   "metadata": {},
   "source": [
    "The below code finds the vector 'x' corresponding to the original image using the matrix 'A'"
   ]
  },
  {
   "cell_type": "code",
   "execution_count": 5,
   "id": "f6ec558b",
   "metadata": {},
   "outputs": [
    {
     "name": "stdout",
     "output_type": "stream",
     "text": [
      "Done\n",
      "[138.15180457 193.55758403 204.3124893  ...   2.02011058  -1.59989573\n",
      "   1.39281639]\n"
     ]
    }
   ],
   "source": [
    "A_inv = np.load(A_inv_path)\n",
    "A_inv = A_inv.astype('float64')\n",
    "A = np.linalg.inv(A_inv) \n",
    "x = A.dot(s)\n",
    "print(\"Done\")\n",
    "print(x)\n",
    "#np.save('x', x) #if you need to save the vector x, uncomment this line"
   ]
  },
  {
   "cell_type": "markdown",
   "id": "5b18cbc9",
   "metadata": {},
   "source": [
    "The below code converts the vector 'x' back to image using 'imageio' library\n",
    "\n",
    "*make sure to change the dimensions here properly.* \\\n",
    "*For example if the image has width 92 px and height 100 px, the (100,92) goes in the bracket*"
   ]
  },
  {
   "cell_type": "code",
   "execution_count": 6,
   "id": "f9c77531",
   "metadata": {},
   "outputs": [
    {
     "name": "stderr",
     "output_type": "stream",
     "text": [
      "Lossy conversion from float64 to uint8. Range [-57.83561344066531, 297.599168495918]. Convert image to uint8 prior to saving to suppress this warning.\n"
     ]
    }
   ],
   "source": [
    "#make sure to change the dimensions here properly. \n",
    "#For example if the image has width 92 px and height 100 px, the (100,92) goes in the bracket\n",
    "y = x.reshape((100,92), order='F')\n",
    "imageio.imwrite('uncorrupted_image.jpg', y)"
   ]
  },
  {
   "cell_type": "code",
   "execution_count": null,
   "id": "e7769d7f",
   "metadata": {},
   "outputs": [],
   "source": []
  }
 ],
 "metadata": {
  "kernelspec": {
   "display_name": "Python 3",
   "language": "python",
   "name": "python3"
  },
  "language_info": {
   "codemirror_mode": {
    "name": "ipython",
    "version": 3
   },
   "file_extension": ".py",
   "mimetype": "text/x-python",
   "name": "python",
   "nbconvert_exporter": "python",
   "pygments_lexer": "ipython3",
   "version": "3.8.8"
  }
 },
 "nbformat": 4,
 "nbformat_minor": 5
}
