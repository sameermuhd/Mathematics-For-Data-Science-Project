{
 "cells": [
  {
   "cell_type": "markdown",
   "id": "a826ef98",
   "metadata": {},
   "source": [
    "### Importing Necessary libraries"
   ]
  },
  {
   "cell_type": "code",
   "execution_count": 1,
   "id": "c222d4c8",
   "metadata": {},
   "outputs": [],
   "source": [
    "import numpy as np\n",
    "from scipy.optimize import linprog\n",
    "import imageio"
   ]
  },
  {
   "cell_type": "markdown",
   "id": "805201b6",
   "metadata": {},
   "source": [
    "### Loading the data\n",
    "Provide path to the 'C.npy', 'y.npy' and 'A_inv.npy' files for all the 3 RGB channels"
   ]
  },
  {
   "cell_type": "code",
   "execution_count": 2,
   "id": "007be008",
   "metadata": {},
   "outputs": [],
   "source": [
    "c_red_path = \"C_red.npy\" #path to the C.npy file (red)\n",
    "y_red_path = \"y_red.npy\" #path to the y.npy file (red)\n",
    "A_inv_red_path = \"A_inv_red.npy\" #path to the A_inv.py file (red)\n",
    "\n",
    "c_green_path = \"C_green.npy\" #path to the C.npy file (green)\n",
    "y_green_path = \"y_green.npy\" #path to the y.npy file (green)\n",
    "A_inv_green_path = \"A_inv_green.npy\" #path to the A_inv.py file (green)\n",
    "\n",
    "c_blue_path = \"C_blue.npy\" #path to the C.npy file (blue)\n",
    "y_blue_path = \"y_blue.npy\" #path to the y.npy file (blue)\n",
    "A_inv_blue_path = \"A_inv_blue.npy\" #path to the A_inv.py file (blue)"
   ]
  },
  {
   "cell_type": "markdown",
   "id": "555e3ae4",
   "metadata": {},
   "source": [
    "### The function that solves the given optimization problem\n",
    "$$\n",
    "\\min _{s}\\|s\\|_{1} \\\\\n",
    "\\text{such that } \\|y-C s\\|_{2}^{2}=0 $$\n",
    "\n",
    "We solve the given problem using an equivalent linear program. To do so we define:\n",
    "\n",
    "$$ s = u - v, \\; {u}_{i} = \\max \\left\\{ {s}_{i}, 0 \\right\\}, \\; {v}_{i} = \\max \\left\\{ -{s}_{i}, 0 \\right\\} $$\n",
    "\n",
    "and in place of $\\|y-C s\\|_{2}^{2}=0$ we take $y = C s$\n",
    "\n",
    "Then the problem becomes:\n",
    "\n",
    "\\begin{align*}\n",
    "\\arg \\min_{u, v} \\: & \\: \\sum_{i = 1}^{n} {u}_{i} + {v}_{i} \\\\\n",
    "\\text{subject to} \\: & \\: C \\left( u - v \\right) = y \\\\\n",
    "& \\: u \\succeq \\boldsymbol{0} \\\\\n",
    "& \\: v \\succeq \\boldsymbol{0}\n",
    "\\end{align*}"
   ]
  },
  {
   "cell_type": "code",
   "execution_count": 3,
   "id": "5e898af6",
   "metadata": {},
   "outputs": [],
   "source": [
    "def solve(A, b):\n",
    "  numRows = A.shape[0] \n",
    "  numCols = A.shape[1]\n",
    "\n",
    "  print(\"Number of Rows of A = \" + str(numRows))\n",
    "  print(\"Number of Columns of A = \" + str(numCols))\n",
    "\n",
    "  vF = np.ones([2*numCols, 1])\n",
    "\n",
    "  mAeq = np.concatenate((A, -A), axis=1)\n",
    "  vBeq = b\n",
    "\n",
    "  vLowerBound = np.full([2 * numCols, 1], 0)\n",
    "  vUpperBound = np.full([2 * numCols, 1], np.inf)\n",
    "  Bounds = np.concatenate((vLowerBound, vUpperBound), axis=1)\n",
    "\n",
    "  result = linprog(vF, A_eq=mAeq, b_eq=vBeq, bounds=Bounds)\n",
    "  vUV = result.x\n",
    "  s = vUV[0:numCols] - vUV[numCols:];\n",
    "\n",
    "  return s"
   ]
  },
  {
   "cell_type": "markdown",
   "id": "1b6d42be",
   "metadata": {},
   "source": [
    "The below code finds the sparse vector 's' using the above function for all 3 RGB channels"
   ]
  },
  {
   "cell_type": "code",
   "execution_count": 4,
   "id": "79bd8915",
   "metadata": {},
   "outputs": [
    {
     "name": "stdout",
     "output_type": "stream",
     "text": [
      "Number of Rows of A = 3680\n",
      "Number of Columns of A = 9200\n",
      "Red Done\n",
      "[ 1.82918739e+04 -7.58328455e+01 -1.99277691e+03 ... -1.70736424e-07\n",
      " -1.27244161e-07  1.41989978e-07]\n",
      "Number of Rows of A = 3680\n",
      "Number of Columns of A = 9200\n",
      "Green Done\n",
      "[ 1.06283207e+04  9.36923324e+02  2.21130014e+03 ...  1.07811914e-07\n",
      " -2.65544772e+01  8.79409114e-08]\n",
      "Number of Rows of A = 3680\n",
      "Number of Columns of A = 9200\n",
      "Blue Done\n",
      "[ 5.33235341e+03 -1.17917306e+03  5.24387524e+02 ... -3.17361531e-07\n",
      " -1.01964851e-07 -3.55131336e+01]\n"
     ]
    }
   ],
   "source": [
    "A_red = np.load(c_red_path)\n",
    "b_red = np.load(y_red_path)\n",
    "s_red = solve(A_red, b_red)\n",
    "print(\"Red Done\")\n",
    "print(s_red)\n",
    "#np.save('s_red', s_red) #if you need to save the sparse vector s, uncomment this line\n",
    "\n",
    "A_green = np.load(c_green_path)\n",
    "b_green = np.load(y_green_path)\n",
    "s_green = solve(A_green, b_green)\n",
    "print(\"Green Done\")\n",
    "print(s_green)\n",
    "#np.save('s_green', s_green) #if you need to save the sparse vector s, uncomment this line\n",
    "\n",
    "A_blue = np.load(c_blue_path)\n",
    "b_blue = np.load(y_blue_path)\n",
    "s_blue = solve(A_blue, b_blue)\n",
    "print(\"Blue Done\")\n",
    "print(s_blue)\n",
    "#np.save('s_blue', s_blue) #if you need to save the sparse vector s, uncomment this line"
   ]
  },
  {
   "cell_type": "markdown",
   "id": "43322f6f",
   "metadata": {},
   "source": [
    "The below code finds the vector 'x' corresponding to the original image using the matrix 'A' for all 3 RGB channels"
   ]
  },
  {
   "cell_type": "code",
   "execution_count": 5,
   "id": "d2d0a829",
   "metadata": {},
   "outputs": [
    {
     "name": "stdout",
     "output_type": "stream",
     "text": [
      "Red Done\n",
      "[138.42724703 179.94747793 211.9727874  ... -11.1121701  -17.01062231\n",
      "   4.89312927]\n",
      "Green Done\n",
      "[171.1169112  236.63477674 243.09956764 ...  -8.81282221   8.64575914\n",
      "  11.99342035]\n",
      "Blue Done\n",
      "[38.50812995 51.69403817 53.20185839 ...  3.7487006  17.73353223\n",
      " -4.45735626]\n"
     ]
    }
   ],
   "source": [
    "A_inv_red = np.load(A_inv_red_path)\n",
    "A_inv_red = A_inv_red.astype('float64')\n",
    "A_red = np.linalg.inv(A_inv_red) \n",
    "x_red = A_red.dot(s_red)\n",
    "print(\"Red Done\")\n",
    "print(x_red)\n",
    "#np.save('x_red', x_red) #if you need to save the vector x, uncomment this line\n",
    "\n",
    "A_inv_green = np.load(A_inv_green_path)\n",
    "A_inv_green = A_inv_green.astype('float64')\n",
    "A_green = np.linalg.inv(A_inv_green) \n",
    "x_green = A_green.dot(s_green)\n",
    "print(\"Green Done\")\n",
    "print(x_green)\n",
    "#np.save('x_green', x_green) #if you need to save the vector x, uncomment this line\n",
    "\n",
    "A_inv_blue = np.load(A_inv_blue_path)\n",
    "A_inv_blue = A_inv_blue.astype('float64')\n",
    "A_blue = np.linalg.inv(A_inv_blue) \n",
    "x_blue = A_blue.dot(s_blue)\n",
    "print(\"Blue Done\")\n",
    "print(x_blue)\n",
    "#np.save('x_blue', x_blue) #if you need to save the vector x, uncomment this line"
   ]
  },
  {
   "cell_type": "markdown",
   "id": "e89fea32",
   "metadata": {},
   "source": [
    "The below code converts the vector 'x' back to image in RGB format using 'imageio' library\n",
    "\n",
    "*make sure to change the dimensions here properly.* \\\n",
    "*For example if the image has width 92 px and height 100 px, the (100,92) goes in the bracket*"
   ]
  },
  {
   "cell_type": "code",
   "execution_count": 6,
   "id": "de91ba77",
   "metadata": {},
   "outputs": [
    {
     "name": "stderr",
     "output_type": "stream",
     "text": [
      "Lossy conversion from float64 to uint8. Range [-215.5875798261548, 455.22381042333035]. Convert image to uint8 prior to saving to suppress this warning.\n"
     ]
    }
   ],
   "source": [
    "#make sure to change the dimensions here properly. \n",
    "#For example if the image has width 92 px and height 100 px, the (100,92) goes in the bracket\n",
    "y_red = x_red.reshape((100,92), order='F')\n",
    "y_green = x_green.reshape((100,92), order='F')\n",
    "y_blue = x_blue.reshape((100,92), order='F')\n",
    "\n",
    "y = np.zeros((100,92,3))\n",
    "y[:,:,0] = y_red\n",
    "y[:,:,1] = y_green\n",
    "y[:,:,2] = y_blue\n",
    "\n",
    "imageio.imwrite('imageRGB.jpg', y)"
   ]
  },
  {
   "cell_type": "code",
   "execution_count": null,
   "id": "1012b70b",
   "metadata": {},
   "outputs": [],
   "source": []
  }
 ],
 "metadata": {
  "kernelspec": {
   "display_name": "Python 3",
   "language": "python",
   "name": "python3"
  },
  "language_info": {
   "codemirror_mode": {
    "name": "ipython",
    "version": 3
   },
   "file_extension": ".py",
   "mimetype": "text/x-python",
   "name": "python",
   "nbconvert_exporter": "python",
   "pygments_lexer": "ipython3",
   "version": "3.8.8"
  }
 },
 "nbformat": 4,
 "nbformat_minor": 5
}
